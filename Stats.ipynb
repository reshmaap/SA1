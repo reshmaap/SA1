{
 "cells": [
  {
   "cell_type": "code",
   "execution_count": 1,
   "id": "871f8a39",
   "metadata": {},
   "outputs": [],
   "source": [
    "import numpy as np\n",
    "import pandas as pd\n",
    "import scipy.stats as stats"
   ]
  },
  {
   "cell_type": "code",
   "execution_count": 3,
   "id": "ca46bc65",
   "metadata": {},
   "outputs": [
    {
     "name": "stderr",
     "output_type": "stream",
     "text": [
      "C:\\Users\\reshm\\AppData\\Local\\Temp\\ipykernel_17632\\3786471387.py:1: DtypeWarning: Columns (1,12) have mixed types. Specify dtype option on import or set low_memory=False.\n",
      "  data = pd.read_csv(\"C:/Users/reshm/Documents/ISB/Statistical analysis/SA1_Group_11.csv\")\n"
     ]
    }
   ],
   "source": [
    "#uploading the dataset\n",
    "data = pd.read_csv(\"C:/Users/reshm/Documents/ISB/Statistical analysis/SA1_Group_11.csv\")"
   ]
  },
  {
   "cell_type": "code",
   "execution_count": 72,
   "id": "2bc2856b",
   "metadata": {},
   "outputs": [
    {
     "data": {
      "text/html": [
       "<div>\n",
       "<style scoped>\n",
       "    .dataframe tbody tr th:only-of-type {\n",
       "        vertical-align: middle;\n",
       "    }\n",
       "\n",
       "    .dataframe tbody tr th {\n",
       "        vertical-align: top;\n",
       "    }\n",
       "\n",
       "    .dataframe thead th {\n",
       "        text-align: right;\n",
       "    }\n",
       "</style>\n",
       "<table border=\"1\" class=\"dataframe\">\n",
       "  <thead>\n",
       "    <tr style=\"text-align: right;\">\n",
       "      <th></th>\n",
       "      <th>Index</th>\n",
       "      <th>SL_NO</th>\n",
       "      <th>ST_CODE</th>\n",
       "      <th>DIST_CODE</th>\n",
       "      <th>TTM_CODE</th>\n",
       "      <th>SECTOR_CODE</th>\n",
       "      <th>VT_CODE</th>\n",
       "      <th>WORKED_FOR_1D</th>\n",
       "      <th>CLOSED_Y</th>\n",
       "      <th>OPER_DUR_MM</th>\n",
       "      <th>...</th>\n",
       "      <th>DECLINE_IN_GOP</th>\n",
       "      <th>DMD_PROB</th>\n",
       "      <th>WORK_CAP_PROB</th>\n",
       "      <th>RAW_MTRL_PROB</th>\n",
       "      <th>POWER_RPOB</th>\n",
       "      <th>LABOUR_PROB</th>\n",
       "      <th>MKT_PROB</th>\n",
       "      <th>EQUIP_PROB</th>\n",
       "      <th>MGMT_PROB</th>\n",
       "      <th>YoY_GOP</th>\n",
       "    </tr>\n",
       "  </thead>\n",
       "  <tbody>\n",
       "    <tr>\n",
       "      <th>0</th>\n",
       "      <td>10255</td>\n",
       "      <td>1402</td>\n",
       "      <td>28</td>\n",
       "      <td>22</td>\n",
       "      <td>10</td>\n",
       "      <td>1</td>\n",
       "      <td>422040</td>\n",
       "      <td>1</td>\n",
       "      <td></td>\n",
       "      <td>12</td>\n",
       "      <td>...</td>\n",
       "      <td>1</td>\n",
       "      <td>1</td>\n",
       "      <td>2</td>\n",
       "      <td>1</td>\n",
       "      <td>1</td>\n",
       "      <td>1</td>\n",
       "      <td>1</td>\n",
       "      <td>2</td>\n",
       "      <td>2</td>\n",
       "      <td>-18.43169</td>\n",
       "    </tr>\n",
       "    <tr>\n",
       "      <th>1</th>\n",
       "      <td>3043</td>\n",
       "      <td>15603</td>\n",
       "      <td>28</td>\n",
       "      <td>14</td>\n",
       "      <td>23</td>\n",
       "      <td>1</td>\n",
       "      <td>18414</td>\n",
       "      <td>1</td>\n",
       "      <td></td>\n",
       "      <td>12</td>\n",
       "      <td>...</td>\n",
       "      <td>2</td>\n",
       "      <td></td>\n",
       "      <td></td>\n",
       "      <td></td>\n",
       "      <td></td>\n",
       "      <td></td>\n",
       "      <td></td>\n",
       "      <td></td>\n",
       "      <td></td>\n",
       "      <td>9.302326</td>\n",
       "    </tr>\n",
       "    <tr>\n",
       "      <th>2</th>\n",
       "      <td>57056</td>\n",
       "      <td>21194</td>\n",
       "      <td>28</td>\n",
       "      <td>17</td>\n",
       "      <td>35</td>\n",
       "      <td>2</td>\n",
       "      <td>417070</td>\n",
       "      <td>1</td>\n",
       "      <td></td>\n",
       "      <td>12</td>\n",
       "      <td>...</td>\n",
       "      <td>2</td>\n",
       "      <td></td>\n",
       "      <td></td>\n",
       "      <td></td>\n",
       "      <td></td>\n",
       "      <td></td>\n",
       "      <td></td>\n",
       "      <td></td>\n",
       "      <td></td>\n",
       "      <td>60.0</td>\n",
       "    </tr>\n",
       "    <tr>\n",
       "      <th>3</th>\n",
       "      <td>44051</td>\n",
       "      <td>51480</td>\n",
       "      <td>28</td>\n",
       "      <td>7</td>\n",
       "      <td>12</td>\n",
       "      <td>1</td>\n",
       "      <td>6234</td>\n",
       "      <td>1</td>\n",
       "      <td></td>\n",
       "      <td>11</td>\n",
       "      <td>...</td>\n",
       "      <td>2</td>\n",
       "      <td></td>\n",
       "      <td></td>\n",
       "      <td></td>\n",
       "      <td></td>\n",
       "      <td></td>\n",
       "      <td></td>\n",
       "      <td></td>\n",
       "      <td></td>\n",
       "      <td>0.0</td>\n",
       "    </tr>\n",
       "    <tr>\n",
       "      <th>4</th>\n",
       "      <td>51556</td>\n",
       "      <td>33043</td>\n",
       "      <td>28</td>\n",
       "      <td>5</td>\n",
       "      <td></td>\n",
       "      <td>2</td>\n",
       "      <td></td>\n",
       "      <td>1</td>\n",
       "      <td></td>\n",
       "      <td>12</td>\n",
       "      <td>...</td>\n",
       "      <td>2</td>\n",
       "      <td></td>\n",
       "      <td></td>\n",
       "      <td></td>\n",
       "      <td></td>\n",
       "      <td></td>\n",
       "      <td></td>\n",
       "      <td></td>\n",
       "      <td></td>\n",
       "      <td>-7.692308</td>\n",
       "    </tr>\n",
       "  </tbody>\n",
       "</table>\n",
       "<p>5 rows × 66 columns</p>\n",
       "</div>"
      ],
      "text/plain": [
       "   Index  SL_NO  ST_CODE  DIST_CODE TTM_CODE  SECTOR_CODE VT_CODE  \\\n",
       "0  10255   1402       28         22       10            1  422040   \n",
       "1   3043  15603       28         14       23            1   18414   \n",
       "2  57056  21194       28         17       35            2  417070   \n",
       "3  44051  51480       28          7       12            1    6234   \n",
       "4  51556  33043       28          5                     2           \n",
       "\n",
       "   WORKED_FOR_1D CLOSED_Y  OPER_DUR_MM  ... DECLINE_IN_GOP  DMD_PROB  \\\n",
       "0              1                    12  ...              1         1   \n",
       "1              1                    12  ...              2             \n",
       "2              1                    12  ...              2             \n",
       "3              1                    11  ...              2             \n",
       "4              1                    12  ...              2             \n",
       "\n",
       "  WORK_CAP_PROB RAW_MTRL_PROB  POWER_RPOB LABOUR_PROB  MKT_PROB  EQUIP_PROB  \\\n",
       "0             2             1           1           1         1           2   \n",
       "1                                                                             \n",
       "2                                                                             \n",
       "3                                                                             \n",
       "4                                                                             \n",
       "\n",
       "   MGMT_PROB   YoY_GOP  \n",
       "0          2 -18.43169  \n",
       "1             9.302326  \n",
       "2                 60.0  \n",
       "3                  0.0  \n",
       "4            -7.692308  \n",
       "\n",
       "[5 rows x 66 columns]"
      ]
     },
     "execution_count": 72,
     "metadata": {},
     "output_type": "execute_result"
    }
   ],
   "source": [
    "data.head()"
   ]
  },
  {
   "cell_type": "code",
   "execution_count": 9,
   "id": "c0f8fb97",
   "metadata": {},
   "outputs": [
    {
     "data": {
      "text/plain": [
       "(0.0, 908105000000.0)"
      ]
     },
     "execution_count": 9,
     "metadata": {},
     "output_type": "execute_result"
    }
   ],
   "source": [
    "#minimum and maximum values in GOP_Year3 variable\n",
    "min(data['GOP_Year3']), max(data['GOP_Year3'])"
   ]
  },
  {
   "cell_type": "code",
   "execution_count": 16,
   "id": "a9ee6b32",
   "metadata": {},
   "outputs": [],
   "source": [
    "#First and third Quartiles of the GOP_Year3 variable and the Inter Quartiles Range\n",
    "q25, q75 = np.percentile(data['GOP_Year3'], 25), np.percentile(data['GOP_Year3'], 75)\n",
    "iqr = q75 - q25\n",
    "print(q25, q75)\n",
    "print(iqr)"
   ]
  },
  {
   "cell_type": "code",
   "execution_count": 35,
   "id": "168d3872",
   "metadata": {},
   "outputs": [],
   "source": [
    "# Data less than and greater than Q2 and Q3 by 1.5*IQR are considered outliers\n",
    "# 1660 records identified as outliers\n",
    "\n",
    "lower, upper = q25-iqr*1.5, q75+iqr*1.5\n",
    "outliers = [x for x in data['GOP_Year3'] if x < lower or x > upper]"
   ]
  },
  {
   "cell_type": "code",
   "execution_count": 41,
   "id": "47addb1f",
   "metadata": {},
   "outputs": [],
   "source": [
    "final_data = [x for x in data['GOP_Year3'] if x > lower and x < upper]"
   ]
  },
  {
   "cell_type": "code",
   "execution_count": 51,
   "id": "67ff803b",
   "metadata": {},
   "outputs": [
    {
     "data": {
      "text/plain": [
       "(0.0, 875000.0)"
      ]
     },
     "execution_count": 51,
     "metadata": {},
     "output_type": "execute_result"
    }
   ],
   "source": [
    "len(final_data) #8340 useful records\n",
    "min(final_data), max(final_data)"
   ]
  },
  {
   "cell_type": "code",
   "execution_count": 44,
   "id": "92dfdbef",
   "metadata": {},
   "outputs": [],
   "source": [
    "GOP = pd.DataFrame(final_data)"
   ]
  },
  {
   "cell_type": "code",
   "execution_count": 46,
   "id": "855628b8",
   "metadata": {},
   "outputs": [
    {
     "name": "stdout",
     "output_type": "stream",
     "text": [
      "0    145247.327458\n",
      "dtype: float64\n",
      "0    170349.027353\n",
      "dtype: float64\n"
     ]
    }
   ],
   "source": [
    "# Let mu be the sample mean and sigma_s be the sample standard deviation\n",
    "mu = GOP.mean()\n",
    "sigma_s = GOP.std()\n",
    "print(mu)\n",
    "print(sigma_s)"
   ]
  },
  {
   "cell_type": "code",
   "execution_count": 54,
   "id": "2166a195",
   "metadata": {},
   "outputs": [
    {
     "name": "stdout",
     "output_type": "stream",
     "text": [
      "degress of freedom is 8339\n",
      "t_value at 5% significance level is 1.9602\n"
     ]
    }
   ],
   "source": [
    "## As we are consider the data as a sample, we don't know the population standard deviation. \n",
    "## We will estimate sample standard deviation to calculate the Confidence Interval using t distribution.\n",
    "## Degrees of freedom (df) and t value \n",
    "df = 8340 - 1\n",
    "print(\"degress of freedom is\", df)\n",
    "t_value = 1.9602    ### same as Z value as the df is very high\n",
    "print(\"t_value at 5% significance level is\", t_value)"
   ]
  },
  {
   "cell_type": "code",
   "execution_count": 58,
   "id": "9b535e8b",
   "metadata": {},
   "outputs": [
    {
     "name": "stdout",
     "output_type": "stream",
     "text": [
      "0    141590.680297\n",
      "dtype: float64 0    148903.974619\n",
      "dtype: float64\n"
     ]
    }
   ],
   "source": [
    "## Confidence Interval estimation \n",
    "## CI = (mu - t_value*sample_s/sqrt(n), mu + t_value*sample_s/sqrt(n))\n",
    "\n",
    "CI_lower_limit = (mu-t_value*sigma_s/np.sqrt(8340))\n",
    "CI_upper_limit = (mu+t_value*sigma_s/np.sqrt(8340))\n",
    "\n",
    "print(CI_lower_limit, CI_upper_limit)"
   ]
  },
  {
   "cell_type": "markdown",
   "id": "f425cbc0",
   "metadata": {},
   "source": [
    "The dataset had outliers that caused skewness in the distribution, hence we removed them. The inter quartile range(IQR) is Rs.3,32,000. There is wide spread in the data, owing to the hetergenous industry units and varying Gross Output amounts.\n",
    "Sample mean in millions is Rs.145247.33\n",
    "Sample standard deviation in millions is Rs.170349.03\n",
    "95% Confidence Interval of mean of 'Gross Output Year 3' is (141590.89, 148903.76), which means there is 95% probability that the population mean of Gross Output Amount lies between Rs.141590.89 and Rs.148903.76."
   ]
  },
  {
   "cell_type": "markdown",
   "id": "679402c6",
   "metadata": {},
   "source": [
    "## Q2.\n",
    "Define two different measures that you consider most appropriate for measuring the performance of the units.\n"
   ]
  },
  {
   "cell_type": "markdown",
   "id": "7fe143c6",
   "metadata": {},
   "source": [
    "a) We consider the Net_Year3 metrics, as this is the difference between the physical assets like plant, machinery, buildings etc. and the liabilities like bank loans. It helps to measure the financial strength of a company over a period of time, three years is a decent time period to judge the same.\n",
    "\n",
    "b) Second variable we consider is the Year-on-year Gross Output. Gross output is the revenue earned from sales or production of the industrial unit and hence a direct measure of performance. The change from previous period gives an understanding about the rate of growth of the company."
   ]
  },
  {
   "cell_type": "code",
   "execution_count": 69,
   "id": "330e4c8a",
   "metadata": {},
   "outputs": [],
   "source": [
    "data['GOP_Year2']=pd.to_numeric(data['GOP_Year2'], errors='coerce').convert_dtypes()"
   ]
  },
  {
   "cell_type": "code",
   "execution_count": 71,
   "id": "8f174c6b",
   "metadata": {},
   "outputs": [],
   "source": [
    "#Creating a field for Y-o-Y Gross Output.\n",
    "data['YoY_GOP'] = (data['GOP_Year3']-data['GOP_Year2'])*100/data['GOP_Year2']"
   ]
  },
  {
   "cell_type": "code",
   "execution_count": null,
   "id": "818a25ee",
   "metadata": {},
   "outputs": [],
   "source": [
    "#Set the empty sting values in the column data['GOP_Year2'] to 0\n",
    "data.loc[data['GOP_Year2'] == ' ', 'GOP_Year2'] = 0 \n",
    "\n",
    "#Convert the column type to float\n",
    "data['GOP_Year2'] = data['GOP_Year2'].astype('float')\n",
    "\n",
    "\n",
    "#Derive the new column YoY Output\n",
    "data['YoY_Output'] = round((data['GOP_Year3']-data['GOP_Year2'])/data['GOP_Year2']*100,2)\n",
    "\n",
    "#Handling the inf values\n",
    "data.loc[~np.isfinite(data['YoY_Output']), 'YoY_Output'] = np.nan\n",
    "\n",
    "data['YoY_Output'].describe()"
   ]
  }
 ],
 "metadata": {
  "kernelspec": {
   "display_name": "Python 3 (ipykernel)",
   "language": "python",
   "name": "python3"
  },
  "language_info": {
   "codemirror_mode": {
    "name": "ipython",
    "version": 3
   },
   "file_extension": ".py",
   "mimetype": "text/x-python",
   "name": "python",
   "nbconvert_exporter": "python",
   "pygments_lexer": "ipython3",
   "version": "3.9.13"
  }
 },
 "nbformat": 4,
 "nbformat_minor": 5
}
